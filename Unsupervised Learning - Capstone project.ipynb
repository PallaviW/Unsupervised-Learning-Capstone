{
 "cells": [
  {
   "cell_type": "markdown",
   "metadata": {},
   "source": [
    "## Unsupervised Learning - Capstone project"
   ]
  },
  {
   "cell_type": "markdown",
   "metadata": {},
   "source": [
    "### Analysis of The 20 newsgroups text dataset"
   ]
  },
  {
   "cell_type": "markdown",
   "metadata": {},
   "source": [
    "The 20 newsgroups dataset comprises around 18000 newsgroups posts on 20 topics split in two subsets: one for training (or development) and the other one for testing (or for performance evaluation). The split between the train and test set is based upon a messages posted before and after a specific date."
   ]
  },
  {
   "cell_type": "code",
   "execution_count": 2,
   "metadata": {},
   "outputs": [],
   "source": [
    "import math\n",
    "import warnings\n",
    "\n",
    "from IPython.display import display\n",
    "from matplotlib import pyplot as plt\n",
    "import numpy as np\n",
    "import pandas as pd\n",
    "import seaborn as sns\n",
    "from sklearn.datasets import fetch_20newsgroups\n",
    "from pprint import pprint\n",
    "import re\n",
    "from nltk.corpus import gutenberg, stopwords\n",
    "from collections import Counter\n",
    "import nltk\n",
    "from sklearn.model_selection import cross_val_score\n",
    "from sklearn.feature_extraction.text import TfidfVectorizer\n",
    "from sklearn import ensemble\n",
    "from sklearn.model_selection import train_test_split\n",
    "from sklearn.linear_model import LogisticRegression\n",
    "from sklearn.svm import LinearSVC\n",
    "from sklearn.model_selection import GridSearchCV\n",
    "from sklearn.metrics import accuracy_score\n",
    "from sklearn.cluster import KMeans\n",
    "from sklearn import metrics\n",
    "from sklearn.decomposition import PCA\n",
    "from sklearn.metrics import classification_report\n",
    "from sklearn import linear_model"
   ]
  },
  {
   "cell_type": "code",
   "execution_count": 3,
   "metadata": {},
   "outputs": [
    {
     "name": "stdout",
     "output_type": "stream",
     "text": [
      "['alt.atheism',\n",
      " 'comp.graphics',\n",
      " 'comp.os.ms-windows.misc',\n",
      " 'comp.sys.ibm.pc.hardware',\n",
      " 'comp.sys.mac.hardware',\n",
      " 'comp.windows.x',\n",
      " 'misc.forsale',\n",
      " 'rec.autos',\n",
      " 'rec.motorcycles',\n",
      " 'rec.sport.baseball',\n",
      " 'rec.sport.hockey',\n",
      " 'sci.crypt',\n",
      " 'sci.electronics',\n",
      " 'sci.med',\n",
      " 'sci.space',\n",
      " 'soc.religion.christian',\n",
      " 'talk.politics.guns',\n",
      " 'talk.politics.mideast',\n",
      " 'talk.politics.misc',\n",
      " 'talk.religion.misc']\n"
     ]
    }
   ],
   "source": [
    "newsgroups_train = fetch_20newsgroups(subset='train')\n",
    "pprint(list(newsgroups_train.target_names))"
   ]
  },
  {
   "cell_type": "markdown",
   "metadata": {},
   "source": [
    "### Loading Data"
   ]
  },
  {
   "cell_type": "code",
   "execution_count": 4,
   "metadata": {},
   "outputs": [],
   "source": [
    "categories = ['alt.atheism','talk.religion.misc',\n",
    "              'comp.graphics','sci.space','rec.autos',\n",
    "             'rec.motorcycles',\n",
    "             'rec.sport.baseball',\n",
    "             'rec.sport.hockey',\n",
    "             'sci.electronics',\n",
    "             'sci.med']\n",
    "newsgroups_train = fetch_20newsgroups(subset='train',remove=('headers', 'footers', 'quotes'),\n",
    "                                    categories=categories)\n",
    "newsgroups_test = fetch_20newsgroups(subset='test',remove=('headers', 'footers', 'quotes'),\n",
    "                                    categories=categories)"
   ]
  },
  {
   "cell_type": "code",
   "execution_count": 5,
   "metadata": {},
   "outputs": [],
   "source": [
    "wpt = nltk.WordPunctTokenizer()\n",
    "stop_words = nltk.corpus.stopwords.words('english')\n",
    "\n",
    "def normalize_document(doc):\n",
    "    doc = doc.lower()\n",
    "    # tokenize document\n",
    "    tokens = wpt.tokenize(doc)\n",
    "    # filter stopwords out of document\n",
    "    filtered_tokens = [token for token in tokens if token not in stop_words]\n",
    "    # re-create document from filtered tokens\n",
    "    doc = ' '.join(filtered_tokens)\n",
    "    return doc\n",
    "\n",
    "normalize_corpus = np.vectorize(normalize_document)"
   ]
  },
  {
   "cell_type": "code",
   "execution_count": 6,
   "metadata": {},
   "outputs": [],
   "source": [
    "newsgroups_train.data = normalize_corpus(newsgroups_train.data)\n",
    "newsgroups_test.data = normalize_corpus(newsgroups_test.data)"
   ]
  },
  {
   "cell_type": "markdown",
   "metadata": {},
   "source": [
    "## BoW (Bag of Words)"
   ]
  },
  {
   "cell_type": "code",
   "execution_count": 7,
   "metadata": {},
   "outputs": [],
   "source": [
    "from sklearn.feature_extraction.text import CountVectorizer\n",
    "\n",
    "cv =  CountVectorizer(min_df=0., max_df=1.)\n",
    "cv_matrix_train = cv.fit_transform(newsgroups_train.data)\n",
    "cv_matrix_train = cv_matrix_train.toarray()"
   ]
  },
  {
   "cell_type": "code",
   "execution_count": 8,
   "metadata": {},
   "outputs": [],
   "source": [
    "cv_matrix_test = cv.transform(newsgroups_test.data)\n",
    "cv_matrix_test = cv_matrix_test.toarray()"
   ]
  },
  {
   "cell_type": "code",
   "execution_count": 9,
   "metadata": {},
   "outputs": [],
   "source": [
    "# get all unique words in the corpus\n",
    "vocab = cv.get_feature_names()\n",
    "# show document feature vectors\n",
    "df_newsgroup_train = pd.DataFrame(cv_matrix_train, columns=vocab)\n",
    "df_newsgroup_test = pd.DataFrame(cv_matrix_test, columns=vocab)"
   ]
  },
  {
   "cell_type": "code",
   "execution_count": 33,
   "metadata": {},
   "outputs": [],
   "source": [
    "df_wordscountanalysis = pd.DataFrame(df_newsgroup_train.sum()).reset_index()"
   ]
  },
  {
   "cell_type": "code",
   "execution_count": 38,
   "metadata": {},
   "outputs": [],
   "source": [
    "df_wordscountanalysis.columns = ['Feature_name', 'word_count']"
   ]
  },
  {
   "cell_type": "code",
   "execution_count": 42,
   "metadata": {},
   "outputs": [
    {
     "data": {
      "text/html": [
       "<div>\n",
       "<style scoped>\n",
       "    .dataframe tbody tr th:only-of-type {\n",
       "        vertical-align: middle;\n",
       "    }\n",
       "\n",
       "    .dataframe tbody tr th {\n",
       "        vertical-align: top;\n",
       "    }\n",
       "\n",
       "    .dataframe thead th {\n",
       "        text-align: right;\n",
       "    }\n",
       "</style>\n",
       "<table border=\"1\" class=\"dataframe\">\n",
       "  <thead>\n",
       "    <tr style=\"text-align: right;\">\n",
       "      <th></th>\n",
       "      <th>Feature_name</th>\n",
       "      <th>word_count</th>\n",
       "    </tr>\n",
       "  </thead>\n",
       "  <tbody>\n",
       "    <tr>\n",
       "      <th>29844</th>\n",
       "      <td>one</td>\n",
       "      <td>2797</td>\n",
       "    </tr>\n",
       "    <tr>\n",
       "      <th>45009</th>\n",
       "      <td>would</td>\n",
       "      <td>2591</td>\n",
       "    </tr>\n",
       "    <tr>\n",
       "      <th>25163</th>\n",
       "      <td>like</td>\n",
       "      <td>1805</td>\n",
       "    </tr>\n",
       "    <tr>\n",
       "      <th>18964</th>\n",
       "      <td>get</td>\n",
       "      <td>1541</td>\n",
       "    </tr>\n",
       "    <tr>\n",
       "      <th>5513</th>\n",
       "      <td>also</td>\n",
       "      <td>1527</td>\n",
       "    </tr>\n",
       "    <tr>\n",
       "      <th>24169</th>\n",
       "      <td>know</td>\n",
       "      <td>1421</td>\n",
       "    </tr>\n",
       "    <tr>\n",
       "      <th>40999</th>\n",
       "      <td>think</td>\n",
       "      <td>1392</td>\n",
       "    </tr>\n",
       "    <tr>\n",
       "      <th>19318</th>\n",
       "      <td>good</td>\n",
       "      <td>1364</td>\n",
       "    </tr>\n",
       "    <tr>\n",
       "      <th>31167</th>\n",
       "      <td>people</td>\n",
       "      <td>1362</td>\n",
       "    </tr>\n",
       "    <tr>\n",
       "      <th>41241</th>\n",
       "      <td>time</td>\n",
       "      <td>1346</td>\n",
       "    </tr>\n",
       "  </tbody>\n",
       "</table>\n",
       "</div>"
      ],
      "text/plain": [
       "      Feature_name  word_count\n",
       "29844          one        2797\n",
       "45009        would        2591\n",
       "25163         like        1805\n",
       "18964          get        1541\n",
       "5513          also        1527\n",
       "24169         know        1421\n",
       "40999        think        1392\n",
       "19318         good        1364\n",
       "31167       people        1362\n",
       "41241         time        1346"
      ]
     },
     "execution_count": 42,
     "metadata": {},
     "output_type": "execute_result"
    }
   ],
   "source": [
    "df_words = df_wordscountanalysis.sort_values([('word_count')],ascending=False)\n",
    "df_words_data = df_words.head(10)\n",
    "df_words_data"
   ]
  },
  {
   "cell_type": "code",
   "execution_count": 44,
   "metadata": {
    "scrolled": true
   },
   "outputs": [
    {
     "data": {
      "image/png": "[encoded data removed]",
      "text/plain": [
       "<Figure size 1152x288 with 1 Axes>"
      ]
     },
     "metadata": {},
     "output_type": "display_data"
    }
   ],
   "source": [
    "#Plotting top 10 users of Yelp!\n",
    "x = np.arange(10)\n",
    "y1 = df_words_data['word_count']\n",
    "plt.figure(figsize=(16,4))\n",
    "p1=plt.bar(x, y1, align='center', alpha=0.5)\n",
    "plt.xticks(x, df_words_data['Feature_name'],rotation='vertical')\n",
    "plt.ylabel(\"word frequency\")\n",
    "plt.title(\"Top 10 words in The 20 newsgroups text dataset\")\n",
    "plt.show()"
   ]
  },
  {
   "cell_type": "markdown",
   "metadata": {},
   "source": [
    "The graph above shows that word 'one' has more occurence compared to 'would' but overall above words found more often in the text of different newsgroup articles"
   ]
  },
  {
   "cell_type": "markdown",
   "metadata": {},
   "source": [
    "#### BoW with RandomForest¶"
   ]
  },
  {
   "cell_type": "code",
   "execution_count": 15,
   "metadata": {},
   "outputs": [
    {
     "name": "stdout",
     "output_type": "stream",
     "text": [
      "Training set score: 0.9696861626248217\n",
      "\n",
      "Test set score: 0.5953912111468381\n"
     ]
    }
   ],
   "source": [
    "rfc_train = ensemble.RandomForestClassifier()\n",
    "train = rfc_train.fit(df_newsgroup_train, newsgroups_train.target)\n",
    "\n",
    "print('Training set score:', rfc_train.score(df_newsgroup_train, newsgroups_train.target))\n",
    "print('\\nTest set score:', rfc_train.score(df_newsgroup_test, newsgroups_test.target))"
   ]
  },
  {
   "cell_type": "code",
   "execution_count": 14,
   "metadata": {},
   "outputs": [
    {
     "data": {
      "text/plain": [
       "array([8, 0, 6, ..., 8, 6, 8])"
      ]
     },
     "execution_count": 14,
     "metadata": {},
     "output_type": "execute_result"
    }
   ],
   "source": [
    "newsgroups_test.target"
   ]
  },
  {
   "cell_type": "code",
   "execution_count": 16,
   "metadata": {},
   "outputs": [
    {
     "name": "stdout",
     "output_type": "stream",
     "text": [
      "                    precision    recall  f1-score   support\n",
      "\n",
      "       alt.atheism       0.48      0.54      0.51       319\n",
      "     comp.graphics       0.56      0.76      0.65       389\n",
      "         rec.autos       0.45      0.65      0.53       396\n",
      "   rec.motorcycles       0.62      0.66      0.64       398\n",
      "rec.sport.baseball       0.66      0.69      0.68       397\n",
      "  rec.sport.hockey       0.79      0.71      0.74       399\n",
      "   sci.electronics       0.53      0.43      0.47       393\n",
      "           sci.med       0.68      0.54      0.60       396\n",
      "         sci.space       0.73      0.55      0.63       394\n",
      "talk.religion.misc       0.56      0.32      0.41       251\n",
      "\n",
      "       avg / total       0.61      0.60      0.59      3732\n",
      "\n"
     ]
    }
   ],
   "source": [
    "print(classification_report(newsgroups_test.target, rfc_train.predict(df_newsgroup_test), target_names=newsgroups_test.target_names))"
   ]
  },
  {
   "cell_type": "code",
   "execution_count": 17,
   "metadata": {},
   "outputs": [
    {
     "data": {
      "text/plain": [
       "array([0.62044444, 0.62811388, 0.63190731, 0.63214286, 0.62846911])"
      ]
     },
     "execution_count": 17,
     "metadata": {},
     "output_type": "execute_result"
    }
   ],
   "source": [
    "cross_val_score(rfc_train, df_newsgroup_train, newsgroups_train.target, cv=5)"
   ]
  },
  {
   "cell_type": "markdown",
   "metadata": {},
   "source": [
    "#### BoW with Logistic Regression"
   ]
  },
  {
   "cell_type": "code",
   "execution_count": 18,
   "metadata": {},
   "outputs": [
    {
     "name": "stdout",
     "output_type": "stream",
     "text": [
      "Training set score: 0.9698644793152639\n",
      "\n",
      "Test set score: 0.7087352625937835\n"
     ]
    }
   ],
   "source": [
    "lr_train = LogisticRegression()\n",
    "train = lr_train.fit(df_newsgroup_train, newsgroups_train.target)\n",
    "\n",
    "print('Training set score:', lr_train.score(df_newsgroup_train, newsgroups_train.target))\n",
    "print('\\nTest set score:', lr_train.score(df_newsgroup_test, newsgroups_test.target))"
   ]
  },
  {
   "cell_type": "code",
   "execution_count": 19,
   "metadata": {},
   "outputs": [
    {
     "name": "stdout",
     "output_type": "stream",
     "text": [
      "                    precision    recall  f1-score   support\n",
      "\n",
      "       alt.atheism       0.59      0.52      0.56       319\n",
      "     comp.graphics       0.74      0.81      0.78       389\n",
      "         rec.autos       0.69      0.71      0.70       396\n",
      "   rec.motorcycles       0.73      0.73      0.73       398\n",
      "rec.sport.baseball       0.60      0.83      0.70       397\n",
      "  rec.sport.hockey       0.87      0.84      0.85       399\n",
      "   sci.electronics       0.67      0.62      0.64       393\n",
      "           sci.med       0.83      0.69      0.75       396\n",
      "         sci.space       0.77      0.72      0.74       394\n",
      "talk.religion.misc       0.57      0.50      0.54       251\n",
      "\n",
      "       avg / total       0.71      0.71      0.71      3732\n",
      "\n"
     ]
    }
   ],
   "source": [
    "print(classification_report(newsgroups_test.target, lr_train.predict(df_newsgroup_test), target_names=newsgroups_test.target_names))"
   ]
  },
  {
   "cell_type": "code",
   "execution_count": 20,
   "metadata": {},
   "outputs": [
    {
     "data": {
      "text/plain": [
       "array([0.75022222, 0.73932384, 0.74955437, 0.76875   , 0.7645479 ])"
      ]
     },
     "execution_count": 20,
     "metadata": {},
     "output_type": "execute_result"
    }
   ],
   "source": [
    "cross_val_score(lr_train, df_newsgroup_train, newsgroups_train.target, cv=5)"
   ]
  },
  {
   "cell_type": "markdown",
   "metadata": {},
   "source": [
    "#### BoW with LinearSVC"
   ]
  },
  {
   "cell_type": "code",
   "execution_count": 21,
   "metadata": {},
   "outputs": [
    {
     "name": "stdout",
     "output_type": "stream",
     "text": [
      "Training set score: 0.973074179743224\n",
      "\n",
      "Test set score: 0.655144694533762\n"
     ]
    }
   ],
   "source": [
    "model_train = LinearSVC()\n",
    "train = model_train.fit(df_newsgroup_train, newsgroups_train.target)\n",
    "\n",
    "print('Training set score:', model_train.score(df_newsgroup_train, newsgroups_train.target))\n",
    "print('\\nTest set score:', model_train.score(df_newsgroup_test, newsgroups_test.target))"
   ]
  },
  {
   "cell_type": "code",
   "execution_count": 22,
   "metadata": {},
   "outputs": [
    {
     "data": {
      "text/plain": [
       "array([0.69155556, 0.68505338, 0.69964349, 0.72053571, 0.6965085 ])"
      ]
     },
     "execution_count": 22,
     "metadata": {},
     "output_type": "execute_result"
    }
   ],
   "source": [
    "cross_val_score(model_train, df_newsgroup_train, newsgroups_train.target, cv=5)"
   ]
  },
  {
   "cell_type": "markdown",
   "metadata": {},
   "source": [
    "## Tfidf"
   ]
  },
  {
   "cell_type": "code",
   "execution_count": 10,
   "metadata": {},
   "outputs": [],
   "source": [
    "vectorizer_train = TfidfVectorizer()\n",
    "\n",
    "#Applying the vectorizer\n",
    "newsgrp_tfidf_train =vectorizer_train.fit_transform(newsgroups_train.data)\n",
    "newsgrp_tfidf_test=vectorizer_train.transform(newsgroups_test.data)"
   ]
  },
  {
   "cell_type": "code",
   "execution_count": 11,
   "metadata": {},
   "outputs": [],
   "source": [
    "tfid_matrix_train = newsgrp_tfidf_train.toarray()\n",
    "tfid_matrix_test = newsgrp_tfidf_test.toarray()\n",
    "tfid_vocab_train = vectorizer_train.get_feature_names()\n",
    "# show document feature vectors\n",
    "tfid_matrix_train = pd.DataFrame(tfid_matrix_train, columns=tfid_vocab_train)\n",
    "tfid_matrix_test = pd.DataFrame(tfid_matrix_test, columns=tfid_vocab_train)"
   ]
  },
  {
   "cell_type": "markdown",
   "metadata": {},
   "source": [
    "#### Tfidf with RandomForest"
   ]
  },
  {
   "cell_type": "code",
   "execution_count": 27,
   "metadata": {},
   "outputs": [
    {
     "name": "stdout",
     "output_type": "stream",
     "text": [
      "Training set score: 0.9696861626248217\n",
      "\n",
      "Test set score: 0.5956591639871383\n"
     ]
    }
   ],
   "source": [
    "rfc_train = ensemble.RandomForestClassifier()\n",
    "train = rfc_train.fit(tfid_matrix_train, newsgroups_train.target)\n",
    "print('Training set score:', rfc_train.score(tfid_matrix_train, newsgroups_train.target))\n",
    "print('\\nTest set score:', rfc_train.score(tfid_matrix_test, newsgroups_test.target))"
   ]
  },
  {
   "cell_type": "code",
   "execution_count": 28,
   "metadata": {},
   "outputs": [
    {
     "data": {
      "text/plain": [
       "array([0.63022222, 0.58718861, 0.59536542, 0.61607143, 0.63115488])"
      ]
     },
     "execution_count": 28,
     "metadata": {},
     "output_type": "execute_result"
    }
   ],
   "source": [
    "cross_val_score(rfc_train, tfid_matrix_train, newsgroups_train.target, cv=5)"
   ]
  },
  {
   "cell_type": "markdown",
   "metadata": {},
   "source": [
    "#### Tfidf with Logistic Regression"
   ]
  },
  {
   "cell_type": "code",
   "execution_count": 29,
   "metadata": {},
   "outputs": [
    {
     "name": "stdout",
     "output_type": "stream",
     "text": [
      "Training set score: 0.9468616262482168\n",
      "\n",
      "Test set score: 0.755091103965702\n"
     ]
    }
   ],
   "source": [
    "lr_train = LogisticRegression()\n",
    "train = lr_train.fit(tfid_matrix_train, newsgroups_train.target)\n",
    "\n",
    "print('Training set score:', lr_train.score(tfid_matrix_train, newsgroups_train.target))\n",
    "print('\\nTest set score:', lr_train.score(tfid_matrix_test, newsgroups_test.target))"
   ]
  },
  {
   "cell_type": "code",
   "execution_count": 30,
   "metadata": {},
   "outputs": [
    {
     "data": {
      "text/plain": [
       "array([0.79288889, 0.78291815, 0.79233512, 0.80892857, 0.78782453])"
      ]
     },
     "execution_count": 30,
     "metadata": {},
     "output_type": "execute_result"
    }
   ],
   "source": [
    "cross_val_score(lr_train, tfid_matrix_train, newsgroups_train.target, cv=5)"
   ]
  },
  {
   "cell_type": "markdown",
   "metadata": {},
   "source": [
    "#### Tfidf with LinearSVC"
   ]
  },
  {
   "cell_type": "code",
   "execution_count": 31,
   "metadata": {},
   "outputs": [
    {
     "name": "stdout",
     "output_type": "stream",
     "text": [
      "Training set score: 0.973074179743224\n",
      "\n",
      "Test set score: 0.7655412647374062\n"
     ]
    }
   ],
   "source": [
    "model_train = LinearSVC()\n",
    "train = model_train.fit(tfid_matrix_train, newsgroups_train.target)\n",
    "\n",
    "print('Training set score:', model_train.score(tfid_matrix_train, newsgroups_train.target))\n",
    "print('\\nTest set score:', model_train.score(tfid_matrix_test, newsgroups_test.target))"
   ]
  },
  {
   "cell_type": "code",
   "execution_count": 32,
   "metadata": {},
   "outputs": [
    {
     "data": {
      "text/plain": [
       "array([0.79733333, 0.80427046, 0.8030303 , 0.82053571, 0.81826321])"
      ]
     },
     "execution_count": 32,
     "metadata": {},
     "output_type": "execute_result"
    }
   ],
   "source": [
    "cross_val_score(model_train, tfid_matrix_train, newsgroups_train.target, cv=5)"
   ]
  },
  {
   "cell_type": "markdown",
   "metadata": {},
   "source": [
    "#### Tfidf with SGDClassifier"
   ]
  },
  {
   "cell_type": "code",
   "execution_count": 24,
   "metadata": {},
   "outputs": [
    {
     "name": "stderr",
     "output_type": "stream",
     "text": [
      "/usr/local/lib/python3.6/site-packages/sklearn/linear_model/stochastic_gradient.py:128: FutureWarning: max_iter and tol parameters have been added in <class 'sklearn.linear_model.stochastic_gradient.SGDClassifier'> in 0.19. If both are left unset, they default to max_iter=5 and tol=None. If tol is not None, max_iter defaults to max_iter=1000. From 0.21, default max_iter will be 1000, and default tol will be 1e-3.\n",
      "  \"and default tol will be 1e-3.\" % type(self), FutureWarning)\n"
     ]
    },
    {
     "name": "stdout",
     "output_type": "stream",
     "text": [
      "Training set score: 0.9680813124108416\n",
      "\n",
      "Test set score: 0.7360664523043944\n"
     ]
    }
   ],
   "source": [
    "clf = linear_model.SGDClassifier()\n",
    "train = clf.fit(tfid_matrix_train, newsgroups_train.target)\n",
    "\n",
    "print('Training set score:', clf.score(tfid_matrix_train, newsgroups_train.target))\n",
    "print('\\nTest set score:', clf.score(tfid_matrix_test, newsgroups_test.target))"
   ]
  },
  {
   "cell_type": "code",
   "execution_count": 25,
   "metadata": {},
   "outputs": [
    {
     "name": "stderr",
     "output_type": "stream",
     "text": [
      "/usr/local/lib/python3.6/site-packages/sklearn/linear_model/stochastic_gradient.py:128: FutureWarning: max_iter and tol parameters have been added in <class 'sklearn.linear_model.stochastic_gradient.SGDClassifier'> in 0.19. If both are left unset, they default to max_iter=5 and tol=None. If tol is not None, max_iter defaults to max_iter=1000. From 0.21, default max_iter will be 1000, and default tol will be 1e-3.\n",
      "  \"and default tol will be 1e-3.\" % type(self), FutureWarning)\n",
      "/usr/local/lib/python3.6/site-packages/sklearn/linear_model/stochastic_gradient.py:128: FutureWarning: max_iter and tol parameters have been added in <class 'sklearn.linear_model.stochastic_gradient.SGDClassifier'> in 0.19. If both are left unset, they default to max_iter=5 and tol=None. If tol is not None, max_iter defaults to max_iter=1000. From 0.21, default max_iter will be 1000, and default tol will be 1e-3.\n",
      "  \"and default tol will be 1e-3.\" % type(self), FutureWarning)\n",
      "/usr/local/lib/python3.6/site-packages/sklearn/linear_model/stochastic_gradient.py:128: FutureWarning: max_iter and tol parameters have been added in <class 'sklearn.linear_model.stochastic_gradient.SGDClassifier'> in 0.19. If both are left unset, they default to max_iter=5 and tol=None. If tol is not None, max_iter defaults to max_iter=1000. From 0.21, default max_iter will be 1000, and default tol will be 1e-3.\n",
      "  \"and default tol will be 1e-3.\" % type(self), FutureWarning)\n",
      "/usr/local/lib/python3.6/site-packages/sklearn/linear_model/stochastic_gradient.py:128: FutureWarning: max_iter and tol parameters have been added in <class 'sklearn.linear_model.stochastic_gradient.SGDClassifier'> in 0.19. If both are left unset, they default to max_iter=5 and tol=None. If tol is not None, max_iter defaults to max_iter=1000. From 0.21, default max_iter will be 1000, and default tol will be 1e-3.\n",
      "  \"and default tol will be 1e-3.\" % type(self), FutureWarning)\n",
      "/usr/local/lib/python3.6/site-packages/sklearn/linear_model/stochastic_gradient.py:128: FutureWarning: max_iter and tol parameters have been added in <class 'sklearn.linear_model.stochastic_gradient.SGDClassifier'> in 0.19. If both are left unset, they default to max_iter=5 and tol=None. If tol is not None, max_iter defaults to max_iter=1000. From 0.21, default max_iter will be 1000, and default tol will be 1e-3.\n",
      "  \"and default tol will be 1e-3.\" % type(self), FutureWarning)\n"
     ]
    },
    {
     "data": {
      "text/plain": [
       "array([0.78755556, 0.77935943, 0.7798574 , 0.81160714, 0.77529096])"
      ]
     },
     "execution_count": 25,
     "metadata": {},
     "output_type": "execute_result"
    }
   ],
   "source": [
    "cross_val_score(clf, tfid_matrix_train, newsgroups_train.target, cv=5)"
   ]
  },
  {
   "cell_type": "markdown",
   "metadata": {},
   "source": [
    "## Tuning best performing model"
   ]
  },
  {
   "cell_type": "markdown",
   "metadata": {},
   "source": [
    "As Linear Regression seems working well with bag of words so lets tunned the model to check if that improves the performance the model.\n",
    "Lets tunned the model with bag of words as well as tfidf vectors for LogisticRegression"
   ]
  },
  {
   "cell_type": "code",
   "execution_count": 35,
   "metadata": {
    "scrolled": true
   },
   "outputs": [
    {
     "name": "stdout",
     "output_type": "stream",
     "text": [
      "Accuracy on testset:\t0.7087\n",
      "\n"
     ]
    }
   ],
   "source": [
    "# A parameter grid for LogisticRegression with BoW vectors\n",
    "params = {'C':[1,10], 'penalty':['l1','l2']}\n",
    "lr = LogisticRegression()\n",
    "\n",
    "# Initialize LogisticRegression and GridSearch\n",
    "grid = GridSearchCV(lr, params, cv=3)\n",
    "grid.fit(df_newsgroup_train, newsgroups_train.target)\n",
    "best_lr = grid.best_estimator_\n",
    "score = accuracy_score(y_true=newsgroups_test.target, y_pred=best_lr.predict(df_newsgroup_test))\n",
    "print('Accuracy on testset:\\t{:.4f}\\n'.format(score))"
   ]
  },
  {
   "cell_type": "code",
   "execution_count": 19,
   "metadata": {},
   "outputs": [
    {
     "name": "stdout",
     "output_type": "stream",
     "text": [
      "Accuracy on testset:\t0.7655\n",
      "\n"
     ]
    }
   ],
   "source": [
    "# A parameter grid for LinearSVC  with tfidf vectors\n",
    "params = {'C':[1,10]}\n",
    "svc = LinearSVC()\n",
    "\n",
    "# Initialize LogisticRegression and GridSearch\n",
    "grid_tfidf_svc = GridSearchCV(svc, params, cv=3)\n",
    "grid_tfidf_svc.fit(tfid_matrix_train, newsgroups_train.target)\n",
    "best_svc = grid_tfidf_svc.best_estimator_\n",
    "score = accuracy_score(y_true=newsgroups_test.target, y_pred=best_svc.predict(tfid_matrix_test))\n",
    "print('Accuracy on testset:\\t{:.4f}\\n'.format(score))"
   ]
  },
  {
   "cell_type": "code",
   "execution_count": 20,
   "metadata": {},
   "outputs": [
    {
     "name": "stdout",
     "output_type": "stream",
     "text": [
      "Accuracy on testset:\t0.7666\n",
      "\n"
     ]
    }
   ],
   "source": [
    "# A parameter grid for LogisticRegression  with tfidf vectors\n",
    "params = {'C':[1,10], 'penalty':['l1','l2']}\n",
    "lr = LogisticRegression()\n",
    "\n",
    "# Initialize LogisticRegression and GridSearch\n",
    "grid_tfidf = GridSearchCV(lr, params, cv=3)\n",
    "grid_tfidf.fit(tfid_matrix_train, newsgroups_train.target)\n",
    "best_lr = grid_tfidf.best_estimator_\n",
    "score = accuracy_score(y_true=newsgroups_test.target, y_pred=best_lr.predict(tfid_matrix_test))\n",
    "print('Accuracy on testset:\\t{:.4f}\\n'.format(score))"
   ]
  },
  {
   "cell_type": "code",
   "execution_count": 16,
   "metadata": {},
   "outputs": [
    {
     "data": {
      "text/plain": [
       "{'C': 10, 'penalty': 'l2'}"
      ]
     },
     "execution_count": 16,
     "metadata": {},
     "output_type": "execute_result"
    }
   ],
   "source": [
    "grid_tfidf.best_params_"
   ]
  },
  {
   "cell_type": "code",
   "execution_count": 15,
   "metadata": {},
   "outputs": [
    {
     "data": {
      "text/plain": [
       "array([0.73422222, 0.72597865, 0.73885918, 0.75892857, 0.74127126])"
      ]
     },
     "execution_count": 15,
     "metadata": {},
     "output_type": "execute_result"
    }
   ],
   "source": [
    "# cross_val_score\n",
    "cross_val_score(best_lr, df_newsgroup_train, newsgroups_train.target, cv=5)"
   ]
  },
  {
   "cell_type": "markdown",
   "metadata": {},
   "source": [
    "## Dimension Reduction with SVD"
   ]
  },
  {
   "cell_type": "code",
   "execution_count": 86,
   "metadata": {},
   "outputs": [],
   "source": [
    "from sklearn.feature_extraction.text import CountVectorizer\n",
    "\n",
    "cv =  CountVectorizer(min_df = 0.001, max_df = 0.98)\n",
    "cv_matrix_train = cv.fit_transform(newsgroups_train.data)\n",
    "cv_matrix_train = cv_matrix_train.toarray()"
   ]
  },
  {
   "cell_type": "code",
   "execution_count": 87,
   "metadata": {},
   "outputs": [],
   "source": [
    "cv_matrix_test = cv.transform(newsgroups_test.data)\n",
    "cv_matrix_test = cv_matrix_test.toarray()"
   ]
  },
  {
   "cell_type": "code",
   "execution_count": 88,
   "metadata": {},
   "outputs": [],
   "source": [
    "# get all unique words in the corpus\n",
    "vocab = cv.get_feature_names()\n",
    "# show document feature vectors\n",
    "df_newsgroup_train_lsa = pd.DataFrame(cv_matrix_train, columns=vocab)\n",
    "df_newsgroup_test_lsa = pd.DataFrame(cv_matrix_test, columns=vocab)"
   ]
  },
  {
   "cell_type": "code",
   "execution_count": 90,
   "metadata": {},
   "outputs": [],
   "source": [
    "from sklearn.decomposition import TruncatedSVD\n",
    "from sklearn.pipeline import make_pipeline\n",
    "from sklearn.preprocessing import Normalizer\n",
    "\n",
    "#Our SVD data reducer.  We are going to reduce the feature space from 48369 to 130.\n",
    "svd= TruncatedSVD(1000)\n",
    "lsa = make_pipeline(svd, Normalizer(copy=False))\n",
    "# Run SVD on the training data, then project the training data.\n",
    "Data_lsa_train= lsa.fit_transform(df_newsgroup_train_lsa)\n",
    "Data_lsa_test= lsa.transform(df_newsgroup_test_lsa)\n",
    "# Split training testing data\n",
    "#X_train_lsa, X_test_lsa, y_train_lsa, y_test_lsa = train_test_split(df_newsgroup_train_lsa, newsgroups_train.target, random_state=3)"
   ]
  },
  {
   "cell_type": "markdown",
   "metadata": {},
   "source": [
    "So the result of logistic regression model before applying SVD is as follows"
   ]
  },
  {
   "cell_type": "code",
   "execution_count": 94,
   "metadata": {},
   "outputs": [
    {
     "name": "stdout",
     "output_type": "stream",
     "text": [
      "Training set score: 0.9662981455064193\n",
      "\n",
      "Test set score: 0.7004287245444801\n"
     ]
    }
   ],
   "source": [
    "lr = LogisticRegression()\n",
    "train = lr.fit(df_newsgroup_train_lsa, newsgroups_train.target)\n",
    "print('Training set score:', lr.score(df_newsgroup_train_lsa,  newsgroups_train.target))\n",
    "print('\\nTest set score:', lr.score(df_newsgroup_test_lsa, newsgroups_test.target))"
   ]
  },
  {
   "cell_type": "markdown",
   "metadata": {},
   "source": [
    "The result of logistic regression model afer applying SVD is as follows"
   ]
  },
  {
   "cell_type": "code",
   "execution_count": 95,
   "metadata": {},
   "outputs": [
    {
     "name": "stdout",
     "output_type": "stream",
     "text": [
      "Training set score: 0.8443295292439372\n",
      "\n",
      "Test set score: 0.702572347266881\n"
     ]
    }
   ],
   "source": [
    "lr = LogisticRegression()\n",
    "train = lr.fit(Data_lsa_train, newsgroups_train.target)\n",
    "print('Training set score:', lr.score(Data_lsa_train, newsgroups_train.target))\n",
    "print('\\nTest set score:', lr.score(Data_lsa_test, newsgroups_test.target))"
   ]
  },
  {
   "cell_type": "markdown",
   "metadata": {},
   "source": [
    "The above analysis shows that the model is improved after applying SVD to the data and also noise is removed as before the data was overfitting with more noise . Lets try LinearSVC after SVD with tfidf vectors as it was giving better performance before"
   ]
  },
  {
   "cell_type": "code",
   "execution_count": 17,
   "metadata": {},
   "outputs": [],
   "source": [
    "from sklearn.decomposition import TruncatedSVD\n",
    "from sklearn.pipeline import make_pipeline\n",
    "from sklearn.preprocessing import Normalizer\n",
    "\n",
    "#Our SVD data reducer.  We are going to reduce the feature space from 48369 to 130.\n",
    "svd= TruncatedSVD(1000)\n",
    "lsa = make_pipeline(svd, Normalizer(copy=False))\n",
    "# Run SVD on the training data, then project the training data.\n",
    "Data_lsa_train= lsa.fit_transform(tfid_matrix_train)\n",
    "Data_lsa_test= lsa.transform(tfid_matrix_test)"
   ]
  },
  {
   "cell_type": "code",
   "execution_count": 18,
   "metadata": {},
   "outputs": [
    {
     "name": "stdout",
     "output_type": "stream",
     "text": [
      "Training set score: 0.9538159771754636\n",
      "\n",
      "Test set score: 0.7387459807073955\n"
     ]
    }
   ],
   "source": [
    "model_train = LinearSVC()\n",
    "train = model_train.fit(Data_lsa_train, newsgroups_train.target)\n",
    "\n",
    "print('Training set score:', model_train.score(Data_lsa_train, newsgroups_train.target))\n",
    "print('\\nTest set score:', model_train.score(Data_lsa_test, newsgroups_test.target))"
   ]
  },
  {
   "cell_type": "markdown",
   "metadata": {},
   "source": [
    "### K-Means"
   ]
  },
  {
   "cell_type": "markdown",
   "metadata": {},
   "source": [
    "Lets do some unsupervised learnings on data to get some patterns of data. Lets try Kmeans to check to unsupervised clustering of data. Initially lets generate 4 clusters and check what are the differe t data clusters we will be getting"
   ]
  },
  {
   "cell_type": "code",
   "execution_count": 97,
   "metadata": {},
   "outputs": [
    {
     "data": {
      "image/png": "[encoded data removed]",
      "text/plain": [
       "<Figure size 432x288 with 1 Axes>"
      ]
     },
     "metadata": {},
     "output_type": "display_data"
    }
   ],
   "source": [
    "X_pca = PCA(2).fit_transform(df_newsgroup_train)\n",
    "\n",
    "# Calculate predicted values.\n",
    "y_pred = KMeans(n_clusters=4, random_state=42).fit_predict(Data_lsa_train)\n",
    "\n",
    "# Plot the solution.\n",
    "plt.scatter(X_pca[:, 0], X_pca[:, 1], c=y_pred)\n",
    "plt.show()"
   ]
  },
  {
   "cell_type": "code",
   "execution_count": 28,
   "metadata": {},
   "outputs": [],
   "source": [
    "label_name = newsgroups_train.target_names"
   ]
  },
  {
   "cell_type": "code",
   "execution_count": 106,
   "metadata": {},
   "outputs": [
    {
     "data": {
      "text/plain": [
       "cluster_labels  target_labels     \n",
       "0               alt.atheism           262\n",
       "                comp.graphics         299\n",
       "                rec.autos             341\n",
       "                rec.motorcycles       359\n",
       "                rec.sport.baseball    403\n",
       "                rec.sport.hockey      378\n",
       "                sci.electronics       290\n",
       "                sci.med               346\n",
       "                sci.space             357\n",
       "                talk.religion.misc    229\n",
       "1               alt.atheism           124\n",
       "                comp.graphics          46\n",
       "                rec.autos              83\n",
       "                rec.motorcycles       118\n",
       "                rec.sport.baseball     85\n",
       "                rec.sport.hockey       96\n",
       "                sci.electronics       102\n",
       "                sci.med               120\n",
       "                sci.space              70\n",
       "                talk.religion.misc     82\n",
       "2               alt.atheism            66\n",
       "                comp.graphics          75\n",
       "                rec.autos              89\n",
       "                rec.motorcycles        57\n",
       "                rec.sport.baseball     57\n",
       "                rec.sport.hockey       86\n",
       "                sci.electronics        89\n",
       "                sci.med                69\n",
       "                sci.space             115\n",
       "                talk.religion.misc     46\n",
       "3               alt.atheism            28\n",
       "                comp.graphics         164\n",
       "                rec.autos              81\n",
       "                rec.motorcycles        64\n",
       "                rec.sport.baseball     52\n",
       "                rec.sport.hockey       40\n",
       "                sci.electronics       110\n",
       "                sci.med                59\n",
       "                sci.space              51\n",
       "                talk.religion.misc     20\n",
       "dtype: int64"
      ]
     },
     "execution_count": 106,
     "metadata": {},
     "output_type": "execute_result"
    }
   ],
   "source": [
    "df1 = pd.DataFrame()\n",
    "df1['cluster_labels'] = y_pred\n",
    "df1['target_labels'] = [label_name[item] for item in newsgroups_train.target]\n",
    "df1.groupby(['cluster_labels','target_labels']).size()"
   ]
  },
  {
   "cell_type": "markdown",
   "metadata": {},
   "source": [
    "If we choose to generate 4 clusters then we see that \n",
    "- cluster 3 is more of graphics and electronics related articles.\n",
    "- cluster 2 is more of space related articles. \n",
    "- cluster 1 is more of atheism, med and motorcycles related articles."
   ]
  },
  {
   "cell_type": "code",
   "execution_count": 107,
   "metadata": {},
   "outputs": [
    {
     "data": {
      "image/png": "[encoded data removed]",
      "text/plain": [
       "<Figure size 432x288 with 1 Axes>"
      ]
     },
     "metadata": {},
     "output_type": "display_data"
    }
   ],
   "source": [
    "X_pca = PCA(2).fit_transform(df_newsgroup_train)\n",
    "\n",
    "# Calculate predicted values.\n",
    "y_pred = KMeans(n_clusters=8, random_state=42).fit_predict(Data_lsa_train)\n",
    "\n",
    "# Plot the solution.\n",
    "plt.scatter(X_pca[:, 0], X_pca[:, 1], c=y_pred)\n",
    "plt.show()"
   ]
  },
  {
   "cell_type": "code",
   "execution_count": 112,
   "metadata": {},
   "outputs": [],
   "source": [
    "df = pd.DataFrame()\n",
    "df['cluster_labels'] = y_pred\n",
    "df['target_labels'] = [label_name[item] for item in newsgroups_train.target]\n",
    "myDF = pd.DataFrame(df.groupby(['cluster_labels','target_labels']).size())"
   ]
  },
  {
   "cell_type": "code",
   "execution_count": 114,
   "metadata": {},
   "outputs": [
    {
     "name": "stdout",
     "output_type": "stream",
     "text": [
      "                                     0\n",
      "cluster_labels target_labels          \n",
      "0              alt.atheism          27\n",
      "               comp.graphics        76\n",
      "               rec.autos            45\n",
      "               rec.motorcycles      36\n",
      "               rec.sport.baseball   24\n",
      "               rec.sport.hockey     21\n",
      "               sci.electronics      52\n",
      "               sci.med              45\n",
      "               sci.space            39\n",
      "               talk.religion.misc   21\n",
      "1              alt.atheism         227\n",
      "               comp.graphics       279\n",
      "               rec.autos           261\n",
      "               rec.motorcycles     272\n",
      "               rec.sport.baseball  196\n",
      "               rec.sport.hockey    160\n",
      "               sci.electronics     255\n",
      "               sci.med             232\n",
      "               sci.space           287\n",
      "               talk.religion.misc  210\n",
      "2              alt.atheism          26\n",
      "               comp.graphics        32\n",
      "               rec.autos            76\n",
      "               rec.motorcycles      77\n",
      "               rec.sport.baseball   27\n",
      "               rec.sport.hockey     23\n",
      "               sci.electronics      64\n",
      "               sci.med              57\n",
      "               sci.space            49\n",
      "               talk.religion.misc   15\n",
      "3              alt.atheism          93\n",
      "               comp.graphics        37\n",
      "               rec.autos            59\n",
      "               rec.motorcycles      80\n",
      "               rec.sport.baseball   46\n",
      "               rec.sport.hockey     43\n",
      "               sci.electronics      76\n",
      "               sci.med              82\n",
      "               sci.space            55\n",
      "               talk.religion.misc   55\n",
      "4              sci.med              70\n",
      "               talk.religion.misc    1\n",
      "5              alt.atheism          23\n",
      "               comp.graphics        87\n",
      "               rec.autos            66\n",
      "               rec.motorcycles      67\n",
      "               rec.sport.baseball   30\n",
      "               rec.sport.hockey     35\n",
      "               sci.electronics      63\n",
      "               sci.med              38\n",
      "               sci.space            53\n",
      "               talk.religion.misc   15\n",
      "6              alt.atheism          62\n",
      "               comp.graphics        60\n",
      "               rec.autos            68\n",
      "               rec.motorcycles      47\n",
      "               rec.sport.baseball   37\n",
      "               rec.sport.hockey     58\n",
      "               sci.electronics      76\n",
      "               sci.med              58\n",
      "               sci.space            90\n",
      "               talk.religion.misc   45\n",
      "7              alt.atheism          22\n",
      "               comp.graphics        13\n",
      "               rec.autos            19\n",
      "               rec.motorcycles      19\n",
      "               rec.sport.baseball  237\n",
      "               rec.sport.hockey    260\n",
      "               sci.electronics       5\n",
      "               sci.med              12\n",
      "               sci.space            20\n",
      "               talk.religion.misc   15\n"
     ]
    }
   ],
   "source": [
    "with pd.option_context(\"display.max_rows\", 1000): print(myDF)"
   ]
  },
  {
   "cell_type": "markdown",
   "metadata": {},
   "source": [
    "If we choose 8 clusters then \n",
    "- It seems like all the clusters have lot of noise except cluster 7 which shows articles which are more related to sports like hockey and baseball \n",
    "- Most of the clusters are not showing any pattern of data"
   ]
  },
  {
   "cell_type": "code",
   "execution_count": 26,
   "metadata": {},
   "outputs": [
    {
     "data": {
      "image/png": "[encoded data removed]",
      "text/plain": [
       "<Figure size 432x288 with 1 Axes>"
      ]
     },
     "metadata": {},
     "output_type": "display_data"
    }
   ],
   "source": [
    "X_pca = PCA(2).fit_transform(df_newsgroup_train)\n",
    "\n",
    "# Calculate predicted values.\n",
    "y_pred = KMeans(n_clusters=9, random_state=42).fit_predict(Data_lsa_train)\n",
    "\n",
    "# Plot the solution.\n",
    "plt.scatter(X_pca[:, 0], X_pca[:, 1], c=y_pred)\n",
    "plt.show()"
   ]
  },
  {
   "cell_type": "code",
   "execution_count": 29,
   "metadata": {},
   "outputs": [],
   "source": [
    "df = pd.DataFrame()\n",
    "df['cluster_labels'] = y_pred\n",
    "df['target_labels'] = [label_name[item] for item in newsgroups_train.target]\n",
    "myDF = pd.DataFrame(df.groupby(['cluster_labels','target_labels']).size())"
   ]
  },
  {
   "cell_type": "code",
   "execution_count": 30,
   "metadata": {},
   "outputs": [
    {
     "name": "stdout",
     "output_type": "stream",
     "text": [
      "                                     0\n",
      "cluster_labels target_labels          \n",
      "0              rec.motorcycles     162\n",
      "1              alt.atheism           3\n",
      "               rec.autos           194\n",
      "               rec.motorcycles      16\n",
      "               rec.sport.hockey      1\n",
      "               sci.electronics      11\n",
      "               sci.space             1\n",
      "               talk.religion.misc    1\n",
      "2              alt.atheism         170\n",
      "               comp.graphics       162\n",
      "               rec.autos           199\n",
      "               rec.motorcycles     234\n",
      "               rec.sport.baseball  259\n",
      "               rec.sport.hockey    167\n",
      "               sci.electronics     220\n",
      "               sci.med             177\n",
      "               sci.space           190\n",
      "               talk.religion.misc  162\n",
      "3              alt.atheism         234\n",
      "               rec.autos             4\n",
      "               rec.motorcycles       2\n",
      "               rec.sport.baseball    2\n",
      "               rec.sport.hockey      1\n",
      "               sci.electronics       1\n",
      "               sci.med              10\n",
      "               talk.religion.misc  163\n",
      "4              sci.med              71\n",
      "5              alt.atheism          66\n",
      "               comp.graphics        68\n",
      "               rec.autos           167\n",
      "               rec.motorcycles     159\n",
      "               rec.sport.baseball   55\n",
      "               rec.sport.hockey     32\n",
      "               sci.electronics     244\n",
      "               sci.med             256\n",
      "               sci.space           148\n",
      "               talk.religion.misc   47\n",
      "6              alt.atheism           1\n",
      "               comp.graphics         7\n",
      "               sci.electronics       2\n",
      "               sci.med              34\n",
      "               sci.space           224\n",
      "7              rec.motorcycles       2\n",
      "               rec.sport.baseball  246\n",
      "               rec.sport.hockey    380\n",
      "               sci.space             1\n",
      "8              alt.atheism           6\n",
      "               comp.graphics       347\n",
      "               rec.autos            30\n",
      "               rec.motorcycles      23\n",
      "               rec.sport.baseball   35\n",
      "               rec.sport.hockey     19\n",
      "               sci.electronics     113\n",
      "               sci.med              46\n",
      "               sci.space            29\n",
      "               talk.religion.misc    4\n"
     ]
    }
   ],
   "source": [
    "with pd.option_context(\"display.max_rows\", 1000): print(myDF)"
   ]
  },
  {
   "cell_type": "markdown",
   "metadata": {},
   "source": [
    "If we choose to generate 9 clusters then\n",
    "- cluster 0 shows \n",
    "- cluster 1 shows more articles related to motorcycles and autos which are more of vehicles\n",
    "- cluster 3 shows more articles related to atheism as well as religion.misc which are more of religious\n",
    "- cluster 6 is more related to space\n",
    "- cluster 8 is more of graphics and sci.electronics related articles"
   ]
  },
  {
   "cell_type": "markdown",
   "metadata": {},
   "source": [
    "## Conclusions"
   ]
  },
  {
   "cell_type": "markdown",
   "metadata": {},
   "source": [
    "As we have performed both supervised and unsupervised learning on the dataset, we can conclude following\n",
    "- As the datatset is labelled so supervised learning gives best results while classifying this text\n",
    "- supervised learning helps to predict data while unsupervised helps to find out some patterns in the dataset like here what kind of newsgroup data comes together to create one cluster so they seems to be related to each other\n",
    "- We will be going for supervised learning here as it gives good results compared to unsupervised learnings which does not give very well defined clusters and includes lot of noise compared to other\n",
    "- Logistic Regression with tfidf feature creation method after performance tuning gave best results \n",
    "- SVD helped to reduce overfitting in case of Logistic Regression"
   ]
  },
  {
   "cell_type": "code",
   "execution_count": null,
   "metadata": {},
   "outputs": [],
   "source": []
  }
 ],
 "metadata": {
  "kernelspec": {
   "display_name": "Python 3",
   "language": "python",
   "name": "python3"
  },
  "language_info": {
   "codemirror_mode": {
    "name": "ipython",
    "version": 3
   },
   "file_extension": ".py",
   "mimetype": "text/x-python",
   "name": "python",
   "nbconvert_exporter": "python",
   "pygments_lexer": "ipython3",
   "version": "3.6.5"
  }
 },
 "nbformat": 4,
 "nbformat_minor": 2
}
